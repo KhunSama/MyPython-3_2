{
 "cells": [
  {
   "cell_type": "code",
   "execution_count": 29,
   "metadata": {},
   "outputs": [
    {
     "name": "stdout",
     "output_type": "stream",
     "text": [
      "ชื่อ:  ชัชพล\n",
      "เงินเดือน:  350000.0\n",
      "ล่วงเวลากี่ครั้ง:  40\n",
      "ค่าล่วงเวลา:  6000\n",
      "รวม:  344000.0\n"
     ]
    }
   ],
   "source": [
    "def total_pay(n, sal, ot):\n",
    "    if(ot>=40):\n",
    "        sal = ot*150\n",
    "    else:\n",
    "        sal = ot*100\n",
    "    return sal\n",
    "\n",
    "name = str(input(\"ชื่อ: \"))\n",
    "salary = float(input(\"เงินเดือน: \"))\n",
    "overtime = int(input(\"ล่วงเวลากี่ครั้ง: \"))\n",
    "total_overtime_pay = total_pay(name, salary, overtime)\n",
    "print(\"ชื่อ: \", name)\n",
    "print(\"เงินเดือน: \", salary)\n",
    "print(\"ล่วงเวลากี่ครั้ง: \", overtime)\n",
    "print(\"ค่าล่วงเวลา: \", total_overtime_pay)\n",
    "print(\"รวม: \", salary-total_overtime_pay)"
   ]
  }
 ],
 "metadata": {
  "kernelspec": {
   "display_name": "Python 3",
   "language": "python",
   "name": "python3"
  },
  "language_info": {
   "codemirror_mode": {
    "name": "ipython",
    "version": 3
   },
   "file_extension": ".py",
   "mimetype": "text/x-python",
   "name": "python",
   "nbconvert_exporter": "python",
   "pygments_lexer": "ipython3",
   "version": "3.12.4"
  }
 },
 "nbformat": 4,
 "nbformat_minor": 2
}
